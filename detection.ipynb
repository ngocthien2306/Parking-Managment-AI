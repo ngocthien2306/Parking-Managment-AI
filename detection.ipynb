{
 "cells": [
  {
   "cell_type": "code",
   "execution_count": 3,
   "metadata": {},
   "outputs": [],
   "source": [
    "import cv2\n",
    "\n",
    "def list_ports():\n",
    "    is_working = True\n",
    "    dev_port = 0\n",
    "    working_ports = []\n",
    "    available_ports = []\n",
    "    while is_working:\n",
    "        camera = cv2.VideoCapture(dev_port)\n",
    "        if not camera.isOpened():\n",
    "            is_working = False\n",
    "            print(\"Port %s is not working.\" %dev_port)\n",
    "        else:\n",
    "            is_reading, img = camera.read()\n",
    "            w = camera.get(3)\n",
    "            h = camera.get(4)\n",
    "            if is_reading:\n",
    "                print(\"Port %s is working and reads images (%s x %s)\" %(dev_port,h,w))\n",
    "                working_ports.append(dev_port)\n",
    "            else:\n",
    "                print(\"Port %s for camera ( %s x %s) is present but does not reads.\" %(dev_port,h,w))\n",
    "                available_ports.append(dev_port)\n",
    "        dev_port +=1\n",
    "    return available_ports,working_ports"
   ]
  },
  {
   "cell_type": "code",
   "execution_count": 4,
   "metadata": {},
   "outputs": [
    {
     "name": "stdout",
     "output_type": "stream",
     "text": [
      "Port 0 is working and reads images (480.0 x 640.0)\n",
      "Port 1 is not working.\n"
     ]
    },
    {
     "name": "stderr",
     "output_type": "stream",
     "text": [
      "[ WARN:0@24.176] global /io/opencv/modules/videoio/src/cap_v4l.cpp (902) open VIDEOIO(V4L2:/dev/video1): can't open camera by index\n"
     ]
    },
    {
     "data": {
      "text/plain": [
       "([], [0])"
      ]
     },
     "execution_count": 4,
     "metadata": {},
     "output_type": "execute_result"
    }
   ],
   "source": [
    "list_ports()"
   ]
  },
  {
   "cell_type": "code",
   "execution_count": 1,
   "metadata": {},
   "outputs": [
    {
     "name": "stdout",
     "output_type": "stream",
     "text": [
      "loading Roboflow workspace...\n",
      "loading Roboflow project...\n"
     ]
    }
   ],
   "source": [
    "from roboflow import Roboflow\n",
    "rf = Roboflow(api_key=\"dyX99EJ9Yo09I3Dj5aDm\")\n",
    "project = rf.workspace().project(\"license-plates-recognition-pntau\")\n",
    "model = project.version(2).model\n"
   ]
  },
  {
   "cell_type": "code",
   "execution_count": 13,
   "metadata": {},
   "outputs": [
    {
     "name": "stdout",
     "output_type": "stream",
     "text": [
      "{'predictions': [{'x': 390.5, 'y': 139.0, 'width': 689, 'height': 278, 'class': 'moto', 'confidence': 0.9, 'image_path': 'temp.jpg', 'prediction_type': 'ObjectDetectionModel'}], 'image': {'width': 853, 'height': 480}}\n"
     ]
    }
   ],
   "source": [
    "# infer on a local image\n",
    "predict = model.predict(\"temp.jpg\", confidence=40, overlap=30).json()\n",
    "print(predict)\n"
   ]
  },
  {
   "cell_type": "code",
   "execution_count": 5,
   "metadata": {},
   "outputs": [
    {
     "name": "stdout",
     "output_type": "stream",
     "text": [
      "{'x': 591.5, 'y': 365.5, 'width': 863, 'height': 697, 'class': 'moto', 'confidence': 0.866, 'image_path': 'images/a_164337.jpg', 'prediction_type': 'ObjectDetectionModel'}\n"
     ]
    }
   ],
   "source": [
    "for data in predict['predictions']:\n",
    "    print(data)"
   ]
  },
  {
   "cell_type": "code",
   "execution_count": 7,
   "metadata": {},
   "outputs": [],
   "source": [
    "x, y, w, h = data['x'], data['y'], data['width'], data['height']"
   ]
  },
  {
   "cell_type": "code",
   "execution_count": 8,
   "metadata": {},
   "outputs": [
    {
     "data": {
      "text/plain": [
       "(591.5, 365.5, 863, 697)"
      ]
     },
     "execution_count": 8,
     "metadata": {},
     "output_type": "execute_result"
    }
   ],
   "source": [
    "x, y, w, h"
   ]
  },
  {
   "cell_type": "code",
   "execution_count": 7,
   "metadata": {},
   "outputs": [
    {
     "data": {
      "text/plain": [
       "'20221215'"
      ]
     },
     "execution_count": 7,
     "metadata": {},
     "output_type": "execute_result"
    }
   ],
   "source": [
    "from datetime import datetime\n",
    "str(datetime.now().date()).replace(\"-\",\"\")"
   ]
  },
  {
   "cell_type": "code",
   "execution_count": 9,
   "metadata": {},
   "outputs": [
    {
     "data": {
      "text/plain": [
       "(480, 853, 3)"
      ]
     },
     "execution_count": 9,
     "metadata": {},
     "output_type": "execute_result"
    }
   ],
   "source": [
    "import cv2\n",
    "img = cv2.imread(\"temp.jpg\")\n",
    "img.shape"
   ]
  },
  {
   "cell_type": "code",
   "execution_count": 15,
   "metadata": {},
   "outputs": [
    {
     "data": {
      "text/plain": [
       "array([[[ 15,  12,  14],\n",
       "        [ 14,  11,  13],\n",
       "        [ 15,  12,  14],\n",
       "        ...,\n",
       "        [213, 226, 204],\n",
       "        [219, 232, 210],\n",
       "        [221, 233, 211]],\n",
       "\n",
       "       [[ 15,  12,  14],\n",
       "        [ 14,  11,  13],\n",
       "        [ 15,  12,  14],\n",
       "        ...,\n",
       "        [200, 216, 193],\n",
       "        [208, 224, 201],\n",
       "        [213, 226, 204]],\n",
       "\n",
       "       [[ 15,  12,  14],\n",
       "        [ 14,  11,  13],\n",
       "        [ 16,  13,  15],\n",
       "        ...,\n",
       "        [179, 198, 177],\n",
       "        [191, 210, 189],\n",
       "        [197, 214, 193]],\n",
       "\n",
       "       ...,\n",
       "\n",
       "       [[185, 189, 194],\n",
       "        [185, 189, 194],\n",
       "        [185, 189, 194],\n",
       "        ...,\n",
       "        [185, 190, 193],\n",
       "        [185, 190, 193],\n",
       "        [185, 190, 193]],\n",
       "\n",
       "       [[183, 190, 193],\n",
       "        [183, 190, 193],\n",
       "        [185, 190, 193],\n",
       "        ...,\n",
       "        [183, 190, 193],\n",
       "        [183, 190, 193],\n",
       "        [183, 190, 193]],\n",
       "\n",
       "       [[183, 190, 193],\n",
       "        [183, 190, 193],\n",
       "        [185, 190, 193],\n",
       "        ...,\n",
       "        [183, 190, 193],\n",
       "        [183, 190, 193],\n",
       "        [183, 190, 193]]], dtype=uint8)"
      ]
     },
     "execution_count": 15,
     "metadata": {},
     "output_type": "execute_result"
    }
   ],
   "source": [
    "x, y, w, h = 390.5, 139.0, 689, 278\n",
    "cv2.rectangle(img, \n",
    "        (int(x-w/2), int(y+h/2)),\n",
    "        (int(x+w/2), int(y-h/2)),\n",
    "        (255, 0, 0), 2)"
   ]
  }
 ],
 "metadata": {
  "kernelspec": {
   "display_name": "Python 3.9.13 ('deep')",
   "language": "python",
   "name": "python3"
  },
  "language_info": {
   "codemirror_mode": {
    "name": "ipython",
    "version": 3
   },
   "file_extension": ".py",
   "mimetype": "text/x-python",
   "name": "python",
   "nbconvert_exporter": "python",
   "pygments_lexer": "ipython3",
   "version": "3.9.13"
  },
  "orig_nbformat": 4,
  "vscode": {
   "interpreter": {
    "hash": "b8889b740f427eb667c39187d3f007bcc49a758021efd5d3d5ffab7280de17f6"
   }
  }
 },
 "nbformat": 4,
 "nbformat_minor": 2
}
